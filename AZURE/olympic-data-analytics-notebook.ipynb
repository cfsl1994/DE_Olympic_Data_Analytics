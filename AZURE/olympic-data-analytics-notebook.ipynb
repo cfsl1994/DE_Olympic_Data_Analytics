{
 "cells": [
  {
   "cell_type": "code",
   "execution_count": null,
   "metadata": {
    "application/vnd.databricks.v1+cell": {
     "cellMetadata": {
      "byteLimit": 2048000,
      "rowLimit": 10000
     },
     "inputWidgets": {},
     "nuid": "cf1779e6-1760-4f23-b9c5-6b518945c3f6",
     "showTitle": false,
     "title": ""
    }
   },
   "outputs": [],
   "source": [
    "# Mounting ADLS to DBDS\n",
    "display(dbutils.fs.ls(\"abfss://olympic-data-analytics@RAW ZONE STORAGE.dfs.core.windows.net/\"))\n"
   ]
  },
  {
   "cell_type": "code",
   "execution_count": null,
   "metadata": {
    "application/vnd.databricks.v1+cell": {
     "cellMetadata": {
      "byteLimit": 2048000,
      "rowLimit": 10000
     },
     "inputWidgets": {},
     "nuid": "eab7a7ba-08fa-4609-92a1-e746ed3cb8ac",
     "showTitle": false,
     "title": ""
    }
   },
   "outputs": [],
   "source": [
    "athletes = spark.read.format(\"csv\").option(\"header\", \"true\").option(\"inferSchema\", \"true\").load(\"abfss://olympic-data-analytics@RAW ZONE STORAGE.dfs.core.windows.net/Athletes.csv\")\n",
    "coaches = spark.read.format(\"csv\").option(\"header\", \"true\").option(\"inferSchema\", \"true\").load(\"abfss://olympic-data-analytics@RAW ZONE STORAGE.dfs.core.windows.net/Coaches.csv\")\n",
    "entriesgender = spark.read.format(\"csv\").option(\"header\", \"true\").option(\"inferSchema\", \"true\").load(\"abfss://olympic-data-analytics@RAW ZONE STORAGE.dfs.core.windows.net/EntriesGender.csv\")\n",
    "medals = spark.read.format(\"csv\").option(\"header\", \"true\").option(\"inferSchema\", \"true\").load(\"abfss://olympic-data-analytics@RAW ZONE STORAGE.dfs.core.windows.net/Medals.csv\")\n",
    "teams = spark.read.format(\"csv\").option(\"header\", \"true\").option(\"inferSchema\", \"true\").load(\"abfss://olympic-data-analytics@RAW ZONE STORAGE.dfs.core.windows.net/Teams.csv\")"
   ]
  },
  {
   "cell_type": "code",
   "execution_count": null,
   "metadata": {
    "application/vnd.databricks.v1+cell": {
     "cellMetadata": {
      "byteLimit": 2048000,
      "rowLimit": 10000
     },
     "inputWidgets": {},
     "nuid": "8349b7df-34fe-4fb8-91ed-bf01ff003bd5",
     "showTitle": false,
     "title": ""
    }
   },
   "outputs": [],
   "source": [
    "athletes = athletes.withColumnRenamed(\"Name\", \"PersonName\")\\\n",
    "                    .withColumnRenamed(\"NOC\", \"Country\")\n",
    "        \n",
    "coaches = coaches.withColumnRenamed(\"NOC\", \"Country\")\n",
    "\n",
    "medals = medals.withColumnRenamed(\"Team/NOC\", \"Team_Country\")\\\n",
    "                .withColumnRenamed(\"Rank by Total\", \"Rank_by_Total\")\n",
    "\n",
    "teams = teams.withColumnRenamed(\"Name\", \"TeamName\")\\\n",
    "                .withColumnRenamed(\"NOC\", \"Country\")"
   ]
  },
  {
   "cell_type": "code",
   "execution_count": null,
   "metadata": {
    "application/vnd.databricks.v1+cell": {
     "cellMetadata": {
      "byteLimit": 2048000,
      "rowLimit": 10000
     },
     "inputWidgets": {},
     "nuid": "9822b340-5193-46d1-96f0-337bb660586f",
     "showTitle": false,
     "title": ""
    }
   },
   "outputs": [],
   "source": [
    "athletes.repartition(1).write.mode(\"overwrite\").option(\"header\", \"true\").parquet(\"abfss://olympic-data-analytics@STAGE ZONE STORAGE.dfs.core.windows.net/athletes/\")\n",
    "coaches.repartition(1).write.mode(\"overwrite\").option(\"header\", \"true\").parquet(\"abfss://olympic-data-analytics@STAGE ZONE STORAGE.dfs.core.windows.net/coaches/\")\n",
    "entriesgender.repartition(1).write.mode(\"overwrite\").option(\"header\", \"true\").parquet(\"abfss://olympic-data-analytics@STAGE ZONE STORAGE.dfs.core.windows.net/entriesgender/\")\n",
    "medals.repartition(1).write.mode(\"overwrite\").option(\"header\", \"true\").parquet(\"abfss://olympic-data-analytics@STAGE ZONE STORAGE.dfs.core.windows.net/medals/\")\n",
    "teams.repartition(1).write.mode(\"overwrite\").option(\"header\", \"true\").parquet(\"abfss://olympic-data-analytics@STAGE ZONE STORAGE.dfs.core.windows.net/teams/\")"
   ]
  }
 ],
 "metadata": {
  "application/vnd.databricks.v1+notebook": {
   "dashboards": [],
   "language": "python",
   "notebookMetadata": {
    "pythonIndentUnit": 4
   },
   "notebookName": "olympic-data-analytics-notebook",
   "widgets": {}
  },
  "language_info": {
   "name": "python"
  }
 },
 "nbformat": 4,
 "nbformat_minor": 0
}
